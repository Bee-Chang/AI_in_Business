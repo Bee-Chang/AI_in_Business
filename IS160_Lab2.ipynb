{
  "nbformat": 4,
  "nbformat_minor": 0,
  "metadata": {
    "colab": {
      "provenance": [],
      "include_colab_link": true
    },
    "kernelspec": {
      "name": "python3",
      "display_name": "Python 3"
    },
    "language_info": {
      "name": "python"
    }
  },
  "cells": [
    {
      "cell_type": "markdown",
      "metadata": {
        "id": "view-in-github",
        "colab_type": "text"
      },
      "source": [
        "<a href=\"https://colab.research.google.com/github/Bee-Chang/AI_in_Business/blob/main/IS160_Lab2.ipynb\" target=\"_parent\"><img src=\"https://colab.research.google.com/assets/colab-badge.svg\" alt=\"Open In Colab\"/></a>"
      ]
    },
    {
      "cell_type": "markdown",
      "source": [
        "Zhen Rui Ng, Bee Chang"
      ],
      "metadata": {
        "id": "H7LhhqKipgXR"
      }
    },
    {
      "cell_type": "code",
      "execution_count": null,
      "metadata": {
        "id": "RMPDi4hxnrXJ"
      },
      "outputs": [],
      "source": [
        "import numpy as np"
      ]
    },
    {
      "cell_type": "markdown",
      "source": [
        "# Forward Propagation using Dot Product"
      ],
      "metadata": {
        "id": "F98Kf3Cbr17W"
      }
    },
    {
      "cell_type": "code",
      "source": [
        "input_data = np.array([2,1])\n",
        "weights = {'node_0':np.array([1,2]),\n",
        "           'node_1':np.array([-1,1]),\n",
        "           'output':np.array([3,2])}\n",
        "node_0_value = (input_data*weights['node_0']).sum()\n",
        "node_1_value = (input_data*weights['node_1']).sum()\n"
      ],
      "metadata": {
        "id": "Sww9F_Knn7GH"
      },
      "execution_count": null,
      "outputs": []
    },
    {
      "cell_type": "code",
      "source": [
        "activation_1 = (1/(1+2.71828**-node_0_value))\n",
        "activation_2 = (1/(1+2.71828**-node_1_value))\n",
        "\n",
        "hidden_layer_values = np.array([activation_1, activation_2])\n",
        "print(hidden_layer_values)"
      ],
      "metadata": {
        "colab": {
          "base_uri": "https://localhost:8080/"
        },
        "id": "F-p_msRex2eH",
        "outputId": "d9e3ce74-8462-44ce-c4ea-e05c84db4452"
      },
      "execution_count": null,
      "outputs": [
        {
          "output_type": "stream",
          "name": "stdout",
          "text": [
            "[0.98201374 0.26894155]\n"
          ]
        }
      ]
    },
    {
      "cell_type": "code",
      "source": [
        "output_node = (hidden_layer_values*weights['output']).sum()\n",
        "print(output_node)"
      ],
      "metadata": {
        "colab": {
          "base_uri": "https://localhost:8080/"
        },
        "id": "CuPTYSLWtgEE",
        "outputId": "10e1cf72-b1f7-4aa7-c309-94b79f977346"
      },
      "execution_count": null,
      "outputs": [
        {
          "output_type": "stream",
          "name": "stdout",
          "text": [
            "3.4839243347862663\n"
          ]
        }
      ]
    },
    {
      "cell_type": "code",
      "source": [
        "activation_output = (1/(1+2.71828**-output_node))\n",
        "\n",
        "output = np.array([activation_output])\n",
        "print(output)"
      ],
      "metadata": {
        "colab": {
          "base_uri": "https://localhost:8080/"
        },
        "id": "ng4Haja3yHfR",
        "outputId": "f2c2981b-7228-4c21-ff89-8a7f66101bc5"
      },
      "execution_count": null,
      "outputs": [
        {
          "output_type": "stream",
          "name": "stdout",
          "text": [
            "[0.97022682]\n"
          ]
        }
      ]
    }
  ]
}